{
 "cells": [
  {
   "cell_type": "code",
   "execution_count": 13,
   "metadata": {},
   "outputs": [],
   "source": [
    "# Import modules\n",
    "import numpy as np\n",
    "import pandas as pd\n",
    "import matplotlib.pyplot as plt\n",
    "import warnings\n",
    "warnings.filterwarnings('ignore')"
   ]
  },
  {
   "cell_type": "code",
   "execution_count": 14,
   "metadata": {},
   "outputs": [],
   "source": [
    "# Analysis parameters\n",
    "school_radius = 0.25 # in miles. Crimes commited within this distance of a school are tagged is_near_school=True"
   ]
  },
  {
   "cell_type": "code",
   "execution_count": 16,
   "metadata": {},
   "outputs": [
    {
     "name": "stdout",
     "output_type": "stream",
     "text": [
      "loaded 2008 crimes data with 419783 records.\n",
      "loaded 2010 crimes data with 369786 records.\n",
      "loaded 2012 crimes data with 335066 records.\n",
      "loaded 2014 crimes data with 273573 records.\n",
      "loaded 2016 crimes data with 266448 records.\n",
      "loaded 2018 crimes data with 259784 records.\n"
     ]
    }
   ],
   "source": [
    "\n",
    "# Load all years of data\n",
    "df_all = pd.DataFrame()\n",
    "years = np.arange(2008, 2019, 2)\n",
    "for year in years:\n",
    "    data_file = 'data/' + str(year) + '_crimes_with_dist.csv'\n",
    "    data = pd.read_csv(data_file)\n",
    "    print(f'loaded {year} crimes data with {len(data)} records.')\n",
    "\n",
    "    # Filter to relevant crime types\n",
    "    data = data.loc[data['primary_type'].isin(['THEFT', 'BATTERY', 'NARCOTICS', 'WEAPONS VIOLATION', 'CRIMINAL DAMAGE'])]\n",
    "\n",
    "    # Tag near schools\n",
    "    data['is_near_school'] = data['nearest_school_dist'] < school_radius\n",
    "    \n",
    "    # Append this year of data to df\n",
    "    df_all = df_all.append(data)"
   ]
  },
  {
   "cell_type": "code",
   "execution_count": 106,
   "metadata": {},
   "outputs": [
    {
     "data": {
      "text/html": [
       "<div>\n",
       "<style scoped>\n",
       "    .dataframe tbody tr th:only-of-type {\n",
       "        vertical-align: middle;\n",
       "    }\n",
       "\n",
       "    .dataframe tbody tr th {\n",
       "        vertical-align: top;\n",
       "    }\n",
       "\n",
       "    .dataframe thead th {\n",
       "        text-align: right;\n",
       "    }\n",
       "</style>\n",
       "<table border=\"1\" class=\"dataframe\">\n",
       "  <thead>\n",
       "    <tr style=\"text-align: right;\">\n",
       "      <th></th>\n",
       "      <th>primary_type</th>\n",
       "      <th>month</th>\n",
       "      <th>crime_count_all</th>\n",
       "      <th>crime_count_sch</th>\n",
       "      <th>crime_rate_all</th>\n",
       "      <th>crime_rate_sch</th>\n",
       "    </tr>\n",
       "  </thead>\n",
       "  <tbody>\n",
       "    <tr>\n",
       "      <th>0</th>\n",
       "      <td>BATTERY</td>\n",
       "      <td>1</td>\n",
       "      <td>25092</td>\n",
       "      <td>4931</td>\n",
       "      <td>107.230769</td>\n",
       "      <td>120.740949</td>\n",
       "    </tr>\n",
       "    <tr>\n",
       "      <th>1</th>\n",
       "      <td>BATTERY</td>\n",
       "      <td>2</td>\n",
       "      <td>23229</td>\n",
       "      <td>4752</td>\n",
       "      <td>99.269231</td>\n",
       "      <td>116.357938</td>\n",
       "    </tr>\n",
       "    <tr>\n",
       "      <th>2</th>\n",
       "      <td>BATTERY</td>\n",
       "      <td>3</td>\n",
       "      <td>29684</td>\n",
       "      <td>6062</td>\n",
       "      <td>126.854701</td>\n",
       "      <td>148.434726</td>\n",
       "    </tr>\n",
       "    <tr>\n",
       "      <th>3</th>\n",
       "      <td>BATTERY</td>\n",
       "      <td>4</td>\n",
       "      <td>29265</td>\n",
       "      <td>5755</td>\n",
       "      <td>125.064103</td>\n",
       "      <td>140.917494</td>\n",
       "    </tr>\n",
       "    <tr>\n",
       "      <th>4</th>\n",
       "      <td>BATTERY</td>\n",
       "      <td>5</td>\n",
       "      <td>34139</td>\n",
       "      <td>6788</td>\n",
       "      <td>145.893162</td>\n",
       "      <td>166.211633</td>\n",
       "    </tr>\n",
       "  </tbody>\n",
       "</table>\n",
       "</div>"
      ],
      "text/plain": [
       "  primary_type  month  crime_count_all  crime_count_sch  crime_rate_all  \\\n",
       "0      BATTERY      1            25092             4931      107.230769   \n",
       "1      BATTERY      2            23229             4752       99.269231   \n",
       "2      BATTERY      3            29684             6062      126.854701   \n",
       "3      BATTERY      4            29265             5755      125.064103   \n",
       "4      BATTERY      5            34139             6788      145.893162   \n",
       "\n",
       "   crime_rate_sch  \n",
       "0      120.740949  \n",
       "1      116.357938  \n",
       "2      148.434726  \n",
       "3      140.917494  \n",
       "4      166.211633  "
      ]
     },
     "execution_count": 106,
     "metadata": {},
     "output_type": "execute_result"
    }
   ],
   "source": [
    "# Group by counts by crime type for all chicago\n",
    "temp = df_all.reset_index()\n",
    "df_allcrimes = temp[['primary_type', 'month', 'case_number']]\n",
    "df_allcrimes = df_allcrimes.groupby(['primary_type', 'month']).count()\n",
    "df_allcrimes = df_allcrimes.rename(columns = {'case_number': 'crime_count_all'})\n",
    "df_allcrimes = df_allcrimes.reset_index()\n",
    "\n",
    "# Group by counts by crime type near schools\n",
    "df_schcrimes = temp[['primary_type', 'month', 'case_number']].loc[temp['is_near_school']==True]\n",
    "df_schcrimes = df_schcrimes.groupby(['primary_type', 'month']).count()\n",
    "df_schcrimes = df_schcrimes.rename(columns = {'case_number': 'crime_count_sch'})\n",
    "df_schcrimes = df_schcrimes.reset_index()\n",
    "\n",
    "# Merge all Chicago and near schools\n",
    "df = df_allcrimes.merge(df_schcrimes, on=['primary_type', 'month'])\n",
    "\n",
    "# Normalize by area\n",
    "df['crime_rate_all'] = df['crime_count_all'] / 234.0\n",
    "df['crime_rate_sch'] = df['crime_count_sch'] / (208 * school_radius**2 * 3.1415)\n",
    "\n",
    "df.head()\n"
   ]
  },
  {
   "cell_type": "code",
   "execution_count": 104,
   "metadata": {},
   "outputs": [
    {
     "data": {
      "image/png": "[encoded data removed]",
      "text/plain": [
       "<Figure size 432x288 with 1 Axes>"
      ]
     },
     "metadata": {
      "needs_background": "light"
     },
     "output_type": "display_data"
    }
   ],
   "source": [
    "# Organize plotting data for All Chicago plot\n",
    "\n",
    "month_names= ['J', 'F', 'M', 'A', 'M', 'J', 'J', 'A', 'S', 'O', 'N', 'D']\n",
    "month_index = np.arange(12)\n",
    "\n",
    "bat = np.asarray(df.loc[df['primary_type']=='BATTERY']['crime_rate_all'].values)\n",
    "dmg = np.asarray(df.loc[df['primary_type']=='CRIMINAL DAMAGE']['crime_rate_all'].values)\n",
    "narc = np.asarray(df.loc[df['primary_type']=='NARCOTICS']['crime_rate_all'].values)\n",
    "theft = np.asarray(df.loc[df['primary_type']=='THEFT']['crime_rate_all'].values)\n",
    "weap = np.asarray(df.loc[df['primary_type']=='WEAPONS VIOLATION']['crime_rate_all'].values)\n",
    "\n",
    "\n",
    "plt.bar(month_index, bat, label='Battery')\n",
    "plt.bar(month_index, dmg, label='Criminal Damage', bottom=bat)\n",
    "plt.bar(month_index, narc, label='Narcotics', bottom= bat+dmg)\n",
    "plt.bar(month_index, theft, label='Theft', bottom=bat +dmg + narc)\n",
    "plt.bar(month_index, weap, label='Weapons Violation', bottom=bat+dmg+narc+theft)\n",
    "\n",
    "plt.xticks(month_index, month_names)\n",
    "plt.ylim(0,900)\n",
    "\n",
    "plt.title('Crimes by Month - All Chicago (2008-2018)')\n",
    "plt.xlabel('Month')\n",
    "plt.ylabel('Crimes per square mile')\n",
    "plt.legend(loc='best')\n",
    "plt.savefig('crimesbymonth-allchicago.png')\n",
    "plt.show()\n"
   ]
  },
  {
   "cell_type": "code",
   "execution_count": 105,
   "metadata": {},
   "outputs": [
    {
     "data": {
      "image/png": "[encoded data removed]",
      "text/plain": [
       "<Figure size 432x288 with 1 Axes>"
      ]
     },
     "metadata": {
      "needs_background": "light"
     },
     "output_type": "display_data"
    }
   ],
   "source": [
    "# Organize plotting data for Near Schools plot\n",
    "\n",
    "month_names= ['J', 'F', 'M', 'A', 'M', 'J', 'J', 'A', 'S', 'O', 'N', 'D']\n",
    "month_index = np.arange(12)\n",
    "\n",
    "bat = np.asarray(df.loc[df['primary_type']=='BATTERY']['crime_rate_sch'].values)\n",
    "dmg = np.asarray(df.loc[df['primary_type']=='CRIMINAL DAMAGE']['crime_rate_sch'].values)\n",
    "narc = np.asarray(df.loc[df['primary_type']=='NARCOTICS']['crime_rate_sch'].values)\n",
    "theft = np.asarray(df.loc[df['primary_type']=='THEFT']['crime_rate_sch'].values)\n",
    "weap = np.asarray(df.loc[df['primary_type']=='WEAPONS VIOLATION']['crime_rate_sch'].values)\n",
    "\n",
    "plt.bar(month_index, bat, label='Battery')\n",
    "plt.bar(month_index, dmg, label='Criminal Damage', bottom=bat)\n",
    "plt.bar(month_index, narc, label='Narcotics', bottom= bat+dmg)\n",
    "plt.bar(month_index, theft, label='Theft', bottom=bat +dmg + narc)\n",
    "plt.bar(month_index, weap, label='Weapons Violation', bottom=bat+dmg+narc+theft)\n",
    "\n",
    "plt.xticks(month_index, month_names)\n",
    "plt.ylim(0,900)\n",
    "\n",
    "plt.title('Crimes by Month - Near Schools (2008-2018)')\n",
    "plt.xlabel('Month')\n",
    "plt.ylabel('Crimes per square mile')\n",
    "plt.legend(loc='best')\n",
    "plt.savefig('crimesbymonth-nearschools.png')\n",
    "plt.show()\n"
   ]
  }
 ],
 "metadata": {
  "kernelspec": {
   "display_name": "Python 3",
   "language": "python",
   "name": "python3"
  },
  "language_info": {
   "codemirror_mode": {
    "name": "ipython",
    "version": 3
   },
   "file_extension": ".py",
   "mimetype": "text/x-python",
   "name": "python",
   "nbconvert_exporter": "python",
   "pygments_lexer": "ipython3",
   "version": "3.7.0"
  }
 },
 "nbformat": 4,
 "nbformat_minor": 2
}
