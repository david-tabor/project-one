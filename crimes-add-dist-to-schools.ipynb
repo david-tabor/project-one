{
 "cells": [
  {
   "cell_type": "code",
   "execution_count": 76,
   "metadata": {},
   "outputs": [],
   "source": [
    "import pandas as pd\n",
    "import numpy as np"
   ]
  },
  {
   "cell_type": "code",
   "execution_count": 68,
   "metadata": {},
   "outputs": [
    {
     "name": "stdout",
     "output_type": "stream",
     "text": [
      "Loaded 661 school locations.\n"
     ]
    },
    {
     "data": {
      "text/html": [
       "<div>\n",
       "<style scoped>\n",
       "    .dataframe tbody tr th:only-of-type {\n",
       "        vertical-align: middle;\n",
       "    }\n",
       "\n",
       "    .dataframe tbody tr th {\n",
       "        vertical-align: top;\n",
       "    }\n",
       "\n",
       "    .dataframe thead th {\n",
       "        text-align: right;\n",
       "    }\n",
       "</style>\n",
       "<table border=\"1\" class=\"dataframe\">\n",
       "  <thead>\n",
       "    <tr style=\"text-align: right;\">\n",
       "      <th></th>\n",
       "      <th>short_name</th>\n",
       "      <th>governance</th>\n",
       "      <th>address</th>\n",
       "      <th>commarea</th>\n",
       "      <th>zip</th>\n",
       "      <th>lat</th>\n",
       "      <th>long</th>\n",
       "      <th>grade_cat</th>\n",
       "      <th>idx</th>\n",
       "    </tr>\n",
       "  </thead>\n",
       "  <tbody>\n",
       "    <tr>\n",
       "      <th>0</th>\n",
       "      <td>GLOBAL CITIZENSHIP</td>\n",
       "      <td>Charter</td>\n",
       "      <td>4647 W 47TH ST</td>\n",
       "      <td>GARFIELD RIDGE</td>\n",
       "      <td>60632</td>\n",
       "      <td>41.807579</td>\n",
       "      <td>-87.740097</td>\n",
       "      <td>ES</td>\n",
       "      <td>0</td>\n",
       "    </tr>\n",
       "    <tr>\n",
       "      <th>1</th>\n",
       "      <td>ACE TECH HS</td>\n",
       "      <td>Charter</td>\n",
       "      <td>5410 S STATE ST</td>\n",
       "      <td>WASHINGTON PARK</td>\n",
       "      <td>60609</td>\n",
       "      <td>41.796122</td>\n",
       "      <td>-87.625849</td>\n",
       "      <td>HS</td>\n",
       "      <td>1</td>\n",
       "    </tr>\n",
       "    <tr>\n",
       "      <th>2</th>\n",
       "      <td>LOCKE A</td>\n",
       "      <td>Charter</td>\n",
       "      <td>3141 W JACKSON BLVD</td>\n",
       "      <td>EAST GARFIELD PARK</td>\n",
       "      <td>60612</td>\n",
       "      <td>41.877248</td>\n",
       "      <td>-87.705235</td>\n",
       "      <td>ES</td>\n",
       "      <td>2</td>\n",
       "    </tr>\n",
       "    <tr>\n",
       "      <th>3</th>\n",
       "      <td>ASPIRA - EARLY COLLEGE HS</td>\n",
       "      <td>Charter</td>\n",
       "      <td>3986 W BARRY AVE</td>\n",
       "      <td>AVONDALE</td>\n",
       "      <td>60618</td>\n",
       "      <td>41.937298</td>\n",
       "      <td>-87.727096</td>\n",
       "      <td>HS</td>\n",
       "      <td>3</td>\n",
       "    </tr>\n",
       "    <tr>\n",
       "      <th>4</th>\n",
       "      <td>ASPIRA - HAUGAN</td>\n",
       "      <td>Charter</td>\n",
       "      <td>3729 W LELAND AVE</td>\n",
       "      <td>ALBANY PARK</td>\n",
       "      <td>60625</td>\n",
       "      <td>41.966406</td>\n",
       "      <td>-87.721825</td>\n",
       "      <td>ES</td>\n",
       "      <td>4</td>\n",
       "    </tr>\n",
       "  </tbody>\n",
       "</table>\n",
       "</div>"
      ],
      "text/plain": [
       "                  short_name governance              address  \\\n",
       "0         GLOBAL CITIZENSHIP    Charter       4647 W 47TH ST   \n",
       "1                ACE TECH HS    Charter      5410 S STATE ST   \n",
       "2                    LOCKE A    Charter  3141 W JACKSON BLVD   \n",
       "3  ASPIRA - EARLY COLLEGE HS    Charter     3986 W BARRY AVE   \n",
       "4            ASPIRA - HAUGAN    Charter    3729 W LELAND AVE   \n",
       "\n",
       "             commarea    zip        lat       long grade_cat  idx  \n",
       "0      GARFIELD RIDGE  60632  41.807579 -87.740097        ES    0  \n",
       "1     WASHINGTON PARK  60609  41.796122 -87.625849        HS    1  \n",
       "2  EAST GARFIELD PARK  60612  41.877248 -87.705235        ES    2  \n",
       "3            AVONDALE  60618  41.937298 -87.727096        HS    3  \n",
       "4         ALBANY PARK  60625  41.966406 -87.721825        ES    4  "
      ]
     },
     "execution_count": 68,
     "metadata": {},
     "output_type": "execute_result"
    }
   ],
   "source": [
    "# Load school data\n",
    "schools = pd.read_csv('schools.csv')\n",
    "\n",
    "schools['idx'] = schools.index\n",
    "\n",
    "print(f\"Loaded {len(schools)} school locations.\")\n",
    "schools.head()"
   ]
  },
  {
   "cell_type": "code",
   "execution_count": 165,
   "metadata": {},
   "outputs": [
    {
     "name": "stdout",
     "output_type": "stream",
     "text": [
      "Loaded 260405 crime records.\n"
     ]
    },
    {
     "data": {
      "text/html": [
       "<div>\n",
       "<style scoped>\n",
       "    .dataframe tbody tr th:only-of-type {\n",
       "        vertical-align: middle;\n",
       "    }\n",
       "\n",
       "    .dataframe tbody tr th {\n",
       "        vertical-align: top;\n",
       "    }\n",
       "\n",
       "    .dataframe thead th {\n",
       "        text-align: right;\n",
       "    }\n",
       "</style>\n",
       "<table border=\"1\" class=\"dataframe\">\n",
       "  <thead>\n",
       "    <tr style=\"text-align: right;\">\n",
       "      <th></th>\n",
       "      <th>primary_type</th>\n",
       "      <th>latitude</th>\n",
       "      <th>longitude</th>\n",
       "      <th>nearest_school</th>\n",
       "      <th>nearest_school_dist</th>\n",
       "    </tr>\n",
       "    <tr>\n",
       "      <th>case_number</th>\n",
       "      <th></th>\n",
       "      <th></th>\n",
       "      <th></th>\n",
       "      <th></th>\n",
       "      <th></th>\n",
       "    </tr>\n",
       "  </thead>\n",
       "  <tbody>\n",
       "    <tr>\n",
       "      <th>JB140548</th>\n",
       "      <td>HOMICIDE</td>\n",
       "      <td>41.680739</td>\n",
       "      <td>-87.645661</td>\n",
       "      <td></td>\n",
       "      <td></td>\n",
       "    </tr>\n",
       "    <tr>\n",
       "      <th>JB108189</th>\n",
       "      <td>MOTOR VEHICLE THEFT</td>\n",
       "      <td>41.994567</td>\n",
       "      <td>-87.659016</td>\n",
       "      <td></td>\n",
       "      <td></td>\n",
       "    </tr>\n",
       "    <tr>\n",
       "      <th>JB108139</th>\n",
       "      <td>MOTOR VEHICLE THEFT</td>\n",
       "      <td>42.012201</td>\n",
       "      <td>-87.693905</td>\n",
       "      <td></td>\n",
       "      <td></td>\n",
       "    </tr>\n",
       "    <tr>\n",
       "      <th>JB108319</th>\n",
       "      <td>THEFT</td>\n",
       "      <td>41.890384</td>\n",
       "      <td>-87.624110</td>\n",
       "      <td></td>\n",
       "      <td></td>\n",
       "    </tr>\n",
       "    <tr>\n",
       "      <th>JB108166</th>\n",
       "      <td>BURGLARY</td>\n",
       "      <td>41.717160</td>\n",
       "      <td>-87.643094</td>\n",
       "      <td></td>\n",
       "      <td></td>\n",
       "    </tr>\n",
       "  </tbody>\n",
       "</table>\n",
       "</div>"
      ],
      "text/plain": [
       "                    primary_type   latitude  longitude nearest_school  \\\n",
       "case_number                                                             \n",
       "JB140548                HOMICIDE  41.680739 -87.645661                  \n",
       "JB108189     MOTOR VEHICLE THEFT  41.994567 -87.659016                  \n",
       "JB108139     MOTOR VEHICLE THEFT  42.012201 -87.693905                  \n",
       "JB108319                   THEFT  41.890384 -87.624110                  \n",
       "JB108166                BURGLARY  41.717160 -87.643094                  \n",
       "\n",
       "            nearest_school_dist  \n",
       "case_number                      \n",
       "JB140548                         \n",
       "JB108189                         \n",
       "JB108139                         \n",
       "JB108319                         \n",
       "JB108166                         "
      ]
     },
     "execution_count": 165,
     "metadata": {},
     "output_type": "execute_result"
    }
   ],
   "source": [
    "# Load crimes data\n",
    "crimes = pd.read_csv('2018_crime.csv')\n",
    "crimes = crimes.dropna()\n",
    "\n",
    "#remove this block if desired\n",
    "crimes = crimes.set_index('case_number')\n",
    "crimes = crimes[['primary_type', 'latitude', 'longitude']]\n",
    "#crimes = crimes.head(1000) #remove after testing\n",
    "\n",
    "# add cols to populate later\n",
    "crimes['nearest_school'] = ''\n",
    "crimes['nearest_school_dist'] = ''\n",
    "\n",
    "print(f\"Loaded {len(crimes)} crime records.\")\n",
    "crimes.head()"
   ]
  },
  {
   "cell_type": "code",
   "execution_count": null,
   "metadata": {},
   "outputs": [],
   "source": [
    "\n",
    "\n"
   ]
  },
  {
   "cell_type": "code",
   "execution_count": 169,
   "metadata": {},
   "outputs": [
    {
     "data": {
      "text/plain": [
       "['U OF C - NKO', 49, 0.0]"
      ]
     },
     "execution_count": 169,
     "metadata": {},
     "output_type": "execute_result"
    }
   ],
   "source": [
    "def get_closest_school(lat, long):\n",
    "    distances = schools.apply(\n",
    "        lambda row: 69.02 * ((lat - row['lat'])**2 + (long - row['long'])**2)**0.5,\n",
    "        axis=1)\n",
    "    i = distances.idxmin()\n",
    "    #return schools.iloc[i]\n",
    "    return [schools.iloc[i]['short_name'], schools.iloc[i]['idx'], distances[i]]\n",
    "    \n",
    "get_closest_school(41.8111828673, -87.5987862684)\n"
   ]
  },
  {
   "cell_type": "code",
   "execution_count": 172,
   "metadata": {},
   "outputs": [
    {
     "name": "stdout",
     "output_type": "stream",
     "text": [
      "Wall time: 13.5 s\n"
     ]
    },
    {
     "name": "stderr",
     "output_type": "stream",
     "text": [
      "C:\\Users\\David Tabor\\AppData\\Local\\Continuum\\anaconda3\\lib\\site-packages\\ipykernel_launcher.py:6: SettingWithCopyWarning: \n",
      "A value is trying to be set on a copy of a slice from a DataFrame.\n",
      "Try using .loc[row_indexer,col_indexer] = value instead\n",
      "\n",
      "See the caveats in the documentation: http://pandas.pydata.org/pandas-docs/stable/indexing.html#indexing-view-versus-copy\n",
      "  \n",
      "C:\\Users\\David Tabor\\AppData\\Local\\Continuum\\anaconda3\\lib\\site-packages\\pandas\\core\\frame.py:3140: SettingWithCopyWarning: \n",
      "A value is trying to be set on a copy of a slice from a DataFrame.\n",
      "Try using .loc[row_indexer,col_indexer] = value instead\n",
      "\n",
      "See the caveats in the documentation: http://pandas.pydata.org/pandas-docs/stable/indexing.html#indexing-view-versus-copy\n",
      "  self[k1] = value[k2]\n"
     ]
    }
   ],
   "source": [
    "\n",
    "%%time\n",
    "c = crimes.head(500)\n",
    "#print(c.head())\n",
    "\n",
    "#c.apply(lambda row: get_closest_school(41.8111828673, -87.5987862684), axis=1)\n",
    "\n",
    "c['temp'] = c.apply(lambda row: get_closest_school(row['latitude'], row['longitude']), axis=1)\n",
    "\n",
    "c[['nearest_school', 'nearest_school_index', 'nearest_school_dist']] = pd.DataFrame(c['temp'].values.tolist(), index=c.index)\n",
    "\n",
    "\n",
    "c = c.drop(columns = ['temp'])\n",
    "\n",
    "c\n",
    "\n",
    "\n",
    "\n",
    "\n",
    "\n",
    "\n",
    "\n",
    "\n",
    "\n",
    "\n",
    "\n",
    "\n"
   ]
  },
  {
   "cell_type": "code",
   "execution_count": 55,
   "metadata": {},
   "outputs": [],
   "source": [
    "\n",
    "\n",
    "# Iterrows implementation\n",
    "# for index, row in crimes.iterrows():\n",
    "#     crime_lat = row['latitude']\n",
    "#     crime_long = row['longitude']\n",
    "#     dist_min = 1000\n",
    "\n",
    "#     for i, r in schools.iterrows():\n",
    "#         school_lat = r['lat']\n",
    "#         school_long = r['long']\n",
    "#         dist = 69.02 * ( (crime_lat - school_lat)**2 + (crime_long - school_long)**2   )**0.5\n",
    "        \n",
    "#         if (dist < dist_min): \n",
    "#             dist_min=dist\n",
    "#             crimes.set_value(index, 'nearest_school', r['short_name'])\n",
    "#             crimes.set_value(index, 'nearest_school_dist', dist_min)\n",
    "\n",
    "# crimes.head()"
   ]
  },
  {
   "cell_type": "code",
   "execution_count": 54,
   "metadata": {},
   "outputs": [],
   "source": [
    "#create full outer product -  BAD WAY TO DO IT\n",
    "\n",
    "# schools['key'] = 1\n",
    "# crimes['key'] = 1\n",
    "\n",
    "# df = pd.merge(crimes, schools, on='zip')\n",
    "\n",
    "# df.head()\n",
    "\n",
    "# idxs = df.groupby('case_number')['dist_mi'].idxmin()\n",
    "# df2 = df.loc[idxs]\n",
    "\n",
    "# df2.head()\n",
    "\n"
   ]
  }
 ],
 "metadata": {
  "kernelspec": {
   "display_name": "'Python Interactive'",
   "language": "python",
   "name": "c314da7f-566c-4d93-b6b6-bc94d2d9aaa5"
  },
  "language_info": {
   "codemirror_mode": {
    "name": "ipython",
    "version": 3
   },
   "file_extension": ".py",
   "mimetype": "text/x-python",
   "name": "python",
   "nbconvert_exporter": "python",
   "pygments_lexer": "ipython3",
   "version": "3.7.0"
  }
 },
 "nbformat": 4,
 "nbformat_minor": 2
}
